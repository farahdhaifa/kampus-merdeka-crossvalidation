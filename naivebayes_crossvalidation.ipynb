{
  "nbformat": 4,
  "nbformat_minor": 0,
  "metadata": {
    "colab": {
      "name": "naivebayes_crossvalidation",
      "provenance": [],
      "collapsed_sections": []
    },
    "kernelspec": {
      "display_name": "Python 3",
      "name": "python3"
    }
  },
  "cells": [
    {
      "cell_type": "code",
      "metadata": {
        "id": "qHQ26pExH6GC"
      },
      "source": [
        "import pandas as pd\n",
        "data = pd.read_csv('Data Komentar DL 900.csv')"
      ],
      "execution_count": 1,
      "outputs": []
    },
    {
      "cell_type": "code",
      "metadata": {
        "colab": {
          "base_uri": "https://localhost:8080/",
          "height": 359
        },
        "id": "bPAqxNnIwmnD",
        "outputId": "3e6bb94d-d447-45c6-944c-4fbf66a1fbc1"
      },
      "source": [
        "data.head(10)"
      ],
      "execution_count": 2,
      "outputs": [
        {
          "output_type": "execute_result",
          "data": {
            "text/html": [
              "<div>\n",
              "<style scoped>\n",
              "    .dataframe tbody tr th:only-of-type {\n",
              "        vertical-align: middle;\n",
              "    }\n",
              "\n",
              "    .dataframe tbody tr th {\n",
              "        vertical-align: top;\n",
              "    }\n",
              "\n",
              "    .dataframe thead th {\n",
              "        text-align: right;\n",
              "    }\n",
              "</style>\n",
              "<table border=\"1\" class=\"dataframe\">\n",
              "  <thead>\n",
              "    <tr style=\"text-align: right;\">\n",
              "      <th></th>\n",
              "      <th>KOMENTAR</th>\n",
              "      <th>SENTIMEN</th>\n",
              "    </tr>\n",
              "  </thead>\n",
              "  <tbody>\n",
              "    <tr>\n",
              "      <th>0</th>\n",
              "      <td>Bagus. Salah satu pendekatan antropologi diken...</td>\n",
              "      <td>1</td>\n",
              "    </tr>\n",
              "    <tr>\n",
              "      <th>1</th>\n",
              "      <td>Terimakasih, saya dapat informasi yg sangat be...</td>\n",
              "      <td>1</td>\n",
              "    </tr>\n",
              "    <tr>\n",
              "      <th>2</th>\n",
              "      <td>Terima kasih mahasiswa perwakilan dari Indones...</td>\n",
              "      <td>1</td>\n",
              "    </tr>\n",
              "    <tr>\n",
              "      <th>3</th>\n",
              "      <td>bagus mas menteri, saya bangga</td>\n",
              "      <td>1</td>\n",
              "    </tr>\n",
              "    <tr>\n",
              "      <th>4</th>\n",
              "      <td>ide sangat cemerlang n patut didukung oleh sem...</td>\n",
              "      <td>1</td>\n",
              "    </tr>\n",
              "    <tr>\n",
              "      <th>5</th>\n",
              "      <td>bagus sih mari dicoba\\\\t</td>\n",
              "      <td>1</td>\n",
              "    </tr>\n",
              "    <tr>\n",
              "      <th>6</th>\n",
              "      <td>ayo sukseskan bersama kebijakan kampus merdeka...</td>\n",
              "      <td>1</td>\n",
              "    </tr>\n",
              "    <tr>\n",
              "      <th>7</th>\n",
              "      <td>luar biasa cara respon rencana solusi pelaksan...</td>\n",
              "      <td>1</td>\n",
              "    </tr>\n",
              "    <tr>\n",
              "      <th>8</th>\n",
              "      <td>Suka bgt sama mba no 3, mewakilkan para anak P...</td>\n",
              "      <td>1</td>\n",
              "    </tr>\n",
              "    <tr>\n",
              "      <th>9</th>\n",
              "      <td>ITUlah CARA yg paling baik n BERKWALITAS,  MAJ...</td>\n",
              "      <td>1</td>\n",
              "    </tr>\n",
              "  </tbody>\n",
              "</table>\n",
              "</div>"
            ],
            "text/plain": [
              "                                            KOMENTAR  SENTIMEN\n",
              "0  Bagus. Salah satu pendekatan antropologi diken...         1\n",
              "1  Terimakasih, saya dapat informasi yg sangat be...         1\n",
              "2  Terima kasih mahasiswa perwakilan dari Indones...         1\n",
              "3                     bagus mas menteri, saya bangga         1\n",
              "4  ide sangat cemerlang n patut didukung oleh sem...         1\n",
              "5                           bagus sih mari dicoba\\\\t         1\n",
              "6  ayo sukseskan bersama kebijakan kampus merdeka...         1\n",
              "7  luar biasa cara respon rencana solusi pelaksan...         1\n",
              "8  Suka bgt sama mba no 3, mewakilkan para anak P...         1\n",
              "9  ITUlah CARA yg paling baik n BERKWALITAS,  MAJ...         1"
            ]
          },
          "metadata": {
            "tags": []
          },
          "execution_count": 2
        }
      ]
    },
    {
      "cell_type": "markdown",
      "metadata": {
        "id": "Cxe7lLmgsp8j"
      },
      "source": [
        "**TEXT PRERPOCESSING**\r\n",
        "\r\n",
        "this process consists of :\r\n",
        "1. Case Folding\r\n",
        "2. Tokenization\r\n",
        "3. Perbaikan Kata Tidak Baku\r\n",
        "3. Stopwords Removal\r\n",
        "4. Stemming\r\n"
      ]
    },
    {
      "cell_type": "code",
      "metadata": {
        "colab": {
          "base_uri": "https://localhost:8080/"
        },
        "id": "s71PKf6cym_n",
        "outputId": "802cc42a-8e55-48f2-d583-4ccc229a889a"
      },
      "source": [
        "#-- CASE FOLDING --\n",
        "import string\n",
        "import re #regex library\n",
        "\n",
        "data['KOMENTAR'] = data['KOMENTAR'].str.lower()\n",
        "\n",
        "def casef(text):\n",
        "    # remove tab, new line, ans back slice\n",
        "    text = text.replace('\\\\t',\" \").replace('\\\\n',\" \").replace('\\\\u',\" \").replace('\\\\',\"\")\n",
        "    # remove non ASCII (emoticon, chinese word, .etc)\n",
        "    text = text.encode('ascii', 'replace').decode('ascii')\n",
        "    # remove mention, link, hashtag\n",
        "    text = ' '.join(re.sub(\"([@#][A-Za-z0-9]+)|(\\w+:\\/\\/\\S+)\",\" \", text).split())\n",
        "    # remove incomplete URL\n",
        "    text= text.replace(\"http://\", \" \").replace(\"https://\", \" \")\n",
        "    #remove number\n",
        "    text = re.sub(r\"\\d+\", \"\", text)\n",
        "    #remove punctuation/tanda baca\n",
        "    text = text.translate(str.maketrans(\"\",\"\",string.punctuation))\n",
        "    #remove whitespace leading & trailing/ spasi\n",
        "    text = text.strip()\n",
        "    #remove multiple whitespace into single whitespace\n",
        "    text = re.sub('\\s+',' ',text)\n",
        "    return text\n",
        "\n",
        "data['casefold'] = data['KOMENTAR'].apply(casef)\n",
        "hasil_casefolding= data['casefold']\n",
        "hasil_casefolding"
      ],
      "execution_count": 3,
      "outputs": [
        {
          "output_type": "execute_result",
          "data": {
            "text/plain": [
              "0      bagus salah satu pendekatan antropologi dikena...\n",
              "1      terimakasih saya dapat informasi yg sangat ber...\n",
              "2      terima kasih mahasiswa perwakilan dari indones...\n",
              "3                          bagus mas menteri saya bangga\n",
              "4      ide sangat cemerlang n patut didukung oleh sem...\n",
              "                             ...                        \n",
              "995    klo negara mau harusnya pendidikan ditegakkan ...\n",
              "996                   sayang sekali belum ada pemerataan\n",
              "997    kampusnya banyak lapangan kerjanya dikit meman...\n",
              "998    saya pesimis dengan mental birokrasi skrg untu...\n",
              "999    risetnya ga bisa asal harus kualitas terbaik h...\n",
              "Name: casefold, Length: 1000, dtype: object"
            ]
          },
          "metadata": {
            "tags": []
          },
          "execution_count": 3
        }
      ]
    },
    {
      "cell_type": "code",
      "metadata": {
        "colab": {
          "base_uri": "https://localhost:8080/"
        },
        "id": "6M4roXI8y9tU",
        "outputId": "699b20ab-b37c-40b2-94ff-6214edd3f293"
      },
      "source": [
        "# ------ Tokenizing ---------\n",
        "import nltk\n",
        "nltk.download('punkt')\n",
        "# import word_tokenize & FreqDist from NLTK\n",
        "from nltk.tokenize import word_tokenize \n",
        "\n",
        "# NLTK word tokenize \n",
        "def word_tokenize_wrapper(text):\n",
        "  return word_tokenize(text)\n",
        "\n",
        "data['komen_tokens'] = data['casefold'].apply(word_tokenize_wrapper)\n",
        "\n",
        "print('Tokenizing Result : \\n') \n",
        "print(data['komen_tokens'].head())\n",
        "print('\\n\\n\\n')"
      ],
      "execution_count": 4,
      "outputs": [
        {
          "output_type": "stream",
          "text": [
            "[nltk_data] Downloading package punkt to /root/nltk_data...\n",
            "[nltk_data]   Unzipping tokenizers/punkt.zip.\n",
            "Tokenizing Result : \n",
            "\n",
            "0    [bagus, salah, satu, pendekatan, antropologi, ...\n",
            "1    [terimakasih, saya, dapat, informasi, yg, sang...\n",
            "2    [terima, kasih, mahasiswa, perwakilan, dari, i...\n",
            "3                  [bagus, mas, menteri, saya, bangga]\n",
            "4    [ide, sangat, cemerlang, n, patut, didukung, o...\n",
            "Name: komen_tokens, dtype: object\n",
            "\n",
            "\n",
            "\n",
            "\n"
          ],
          "name": "stdout"
        }
      ]
    },
    {
      "cell_type": "code",
      "metadata": {
        "colab": {
          "base_uri": "https://localhost:8080/"
        },
        "id": "9PQdivmLG_mk",
        "outputId": "ee420e70-e6d6-4bca-a721-050e4220e6c2"
      },
      "source": [
        "#-- PERBAIKAN KATA TIDAK BAKU --\r\n",
        "\r\n",
        "normalized_word = pd.read_excel(\"kamus perbaikan kata.xlsx\")\r\n",
        "\r\n",
        "normalized_word_dict = {}\r\n",
        "\r\n",
        "for index, row in normalized_word.iterrows():\r\n",
        "    if row[0] not in normalized_word_dict:\r\n",
        "        normalized_word_dict[row[0]] = row[1] \r\n",
        "\r\n",
        "def normalized_term(document):\r\n",
        "    return [normalized_word_dict[term] if term in normalized_word_dict else term for term in document]\r\n",
        "\r\n",
        "data['komen_perbaikan'] = data['komen_tokens'].apply(normalized_term)\r\n",
        "\r\n",
        "data['komen_perbaikan'].tail(10)"
      ],
      "execution_count": 5,
      "outputs": [
        {
          "output_type": "execute_result",
          "data": {
            "text/plain": [
              "990    [magang, kelamaan, membuat, stres, juga, perus...\n",
              "991    [saya, pesimis, dengan, mental, birokrasi, sek...\n",
              "992    [kalau, cuma, pak, nadiem, saja, yang, revolus...\n",
              "993    [harus, bagaimana, dan, tempat, magangnya, jug...\n",
              "994    [kalau, untuk, yang, kuliah, sambil, kerja, ba...\n",
              "995    [kalau, negara, mau, harusnya, pendidikan, dit...\n",
              "996             [sayang, sekali, belum, ada, pemerataan]\n",
              "997    [kampusnya, banyak, lapangan, kerjanya, sediki...\n",
              "998    [saya, pesimis, dengan, mental, birokrasi, sek...\n",
              "999    [risetnya, tidak, bisa, asal, harus, kualitas,...\n",
              "Name: komen_perbaikan, dtype: object"
            ]
          },
          "metadata": {
            "tags": []
          },
          "execution_count": 5
        }
      ]
    },
    {
      "cell_type": "code",
      "metadata": {
        "colab": {
          "base_uri": "https://localhost:8080/"
        },
        "id": "85ETuuWLzCpG",
        "outputId": "8595547e-bded-49a9-d7fa-5d1a82467ee3"
      },
      "source": [
        "#-- STOPWORDS REMOVAL --\n",
        "list_stopwords = {\"adalah\",\"akan\",\"akhir\",\"aku\",\"saya\",\"antara\",\"antaranya\",\"apabila\",\"atau\",\"bahwa\",\"bahwasannya\",\"berikut\",\"berkata\",\"berupa\",\"dan\",\"dalam\",\"dapat\",\"dari\",\"demikian\",\"dengan\",\"di\",\"dia\",\"beliau\",\"mas\",\"pak\",\"diri\",\"dirinya\",\"guna\",\"hal\",\"hingga\",\"ia\",\"ialah\",\"ibarat\",\"ibaratnya\",\"ibu\",\"ingin\",\"inginkan\",\"ini\",\"itu\",\"jadi\",\"kami\",\"kalian\",\"kamu\",\"kan\",\"karena\",\"kini\",\"lalu\",\"kita\",\"maka\",\"mereka\",\"merupakan\",\"misal\",\"misalkan\",\"misalnya\",\"pertama\",\"orang\",\"pada\",\"nya\",\"saat\",\"sendiri\",\"sini\",\"yaitu\",\"yang\",\"kalau\",\"jika\",\"untuk\",\"secara\",\"sedangkan\",\"luar\",\"alangkah\",\"wkkk\",\n",
        "                  \"wkwkw\",\"wkwkwkw\",\"wk\",\"wkkw\"}\n",
        "\n",
        "list_stopwords = set(list_stopwords)\n",
        "\n",
        "#remove stopword pada list token\n",
        "def stopwords_removal(words):\n",
        "    return [word for word in words if word not in list_stopwords]\n",
        "\n",
        "data['komen_filtered'] = data['komen_perbaikan'].apply(stopwords_removal) \n",
        "\n",
        "print(data['komen_filtered'].head())"
      ],
      "execution_count": 6,
      "outputs": [
        {
          "output_type": "stream",
          "text": [
            "0    [bagus, salah, satu, pendekatan, antropologi, ...\n",
            "1    [terimakasih, informasi, sangat, berguna, memo...\n",
            "2    [terima, kasih, mahasiswa, perwakilan, indones...\n",
            "3                             [bagus, menteri, bangga]\n",
            "4    [ide, sangat, cemerlang, patut, didukung, oleh...\n",
            "Name: komen_filtered, dtype: object\n"
          ],
          "name": "stdout"
        }
      ]
    },
    {
      "cell_type": "code",
      "metadata": {
        "colab": {
          "base_uri": "https://localhost:8080/"
        },
        "id": "WZjFdj2Xz0Es",
        "outputId": "68f1d2aa-ce19-4cb0-d76b-f5a07f70e5fd"
      },
      "source": [
        "pip install Sastrawi"
      ],
      "execution_count": 7,
      "outputs": [
        {
          "output_type": "stream",
          "text": [
            "Collecting Sastrawi\n",
            "\u001b[?25l  Downloading https://files.pythonhosted.org/packages/6f/4b/bab676953da3103003730b8fcdfadbdd20f333d4add10af949dd5c51e6ed/Sastrawi-1.0.1-py2.py3-none-any.whl (209kB)\n",
            "\r\u001b[K     |█▋                              | 10kB 12.0MB/s eta 0:00:01\r\u001b[K     |███▏                            | 20kB 16.9MB/s eta 0:00:01\r\u001b[K     |████▊                           | 30kB 12.6MB/s eta 0:00:01\r\u001b[K     |██████▎                         | 40kB 9.8MB/s eta 0:00:01\r\u001b[K     |███████▉                        | 51kB 8.3MB/s eta 0:00:01\r\u001b[K     |█████████▍                      | 61kB 8.2MB/s eta 0:00:01\r\u001b[K     |███████████                     | 71kB 8.7MB/s eta 0:00:01\r\u001b[K     |████████████▌                   | 81kB 8.3MB/s eta 0:00:01\r\u001b[K     |██████████████                  | 92kB 8.5MB/s eta 0:00:01\r\u001b[K     |███████████████▋                | 102kB 8.7MB/s eta 0:00:01\r\u001b[K     |█████████████████▏              | 112kB 8.7MB/s eta 0:00:01\r\u001b[K     |██████████████████▊             | 122kB 8.7MB/s eta 0:00:01\r\u001b[K     |████████████████████▎           | 133kB 8.7MB/s eta 0:00:01\r\u001b[K     |█████████████████████▉          | 143kB 8.7MB/s eta 0:00:01\r\u001b[K     |███████████████████████▍        | 153kB 8.7MB/s eta 0:00:01\r\u001b[K     |█████████████████████████       | 163kB 8.7MB/s eta 0:00:01\r\u001b[K     |██████████████████████████▋     | 174kB 8.7MB/s eta 0:00:01\r\u001b[K     |████████████████████████████▏   | 184kB 8.7MB/s eta 0:00:01\r\u001b[K     |█████████████████████████████▊  | 194kB 8.7MB/s eta 0:00:01\r\u001b[K     |███████████████████████████████▎| 204kB 8.7MB/s eta 0:00:01\r\u001b[K     |████████████████████████████████| 215kB 8.7MB/s \n",
            "\u001b[?25hInstalling collected packages: Sastrawi\n",
            "Successfully installed Sastrawi-1.0.1\n"
          ],
          "name": "stdout"
        }
      ]
    },
    {
      "cell_type": "code",
      "metadata": {
        "colab": {
          "base_uri": "https://localhost:8080/"
        },
        "id": "5akBO9ahI6xX",
        "outputId": "f405a393-1298-4726-f78d-7ee64045437d"
      },
      "source": [
        "from Sastrawi.Stemmer.StemmerFactory import StemmerFactory\r\n",
        "# create stemmer\r\n",
        "factory = StemmerFactory()\r\n",
        "stemmer = factory.create_stemmer()\r\n",
        "\r\n",
        "# stemmed\r\n",
        "def stemmed_wrapper(term):\r\n",
        "    return stemmer.stem(term)\r\n",
        "\r\n",
        "term_dict = {}\r\n",
        "for document in data['komen_filtered']:\r\n",
        "    for term in document:\r\n",
        "        if term not in term_dict:\r\n",
        "            term_dict[term] = ' '\r\n",
        "\r\n",
        "for term in term_dict:\r\n",
        "    term_dict[term] = stemmed_wrapper(term)\r\n",
        "\r\n",
        "# apply stemmed term to dataframe\r\n",
        "def get_stemmed_term(document):\r\n",
        "    return [term_dict[term] for term in document]\r\n",
        "\r\n",
        "data['komen_stemmed'] = data['komen_filtered'].apply(get_stemmed_term)\r\n",
        "print(data['komen_stemmed'].tail(10))"
      ],
      "execution_count": 8,
      "outputs": [
        {
          "output_type": "stream",
          "text": [
            "990    [magang, lama, buat, stres, juga, usaha, mana,...\n",
            "991        [pesimis, mental, birokrasi, sekarang, wujud]\n",
            "992    [cuma, nadiem, saja, revolusioner, tapi, bawah...\n",
            "993      [harus, bagaimana, tempat, magang, juga, susah]\n",
            "994    [kuliah, sambil, kerja, bagaimana, tinggal, do...\n",
            "995    [negara, mau, harus, didik, tegak, wilayah, lu...\n",
            "996                 [sayang, sekali, belum, ada, perata]\n",
            "997    [kampus, banyak, lapang, kerja, sedikit, meman...\n",
            "998        [pesimis, mental, birokrasi, sekarang, wujud]\n",
            "999    [riset, tidak, bisa, asal, harus, kualitas, ba...\n",
            "Name: komen_stemmed, dtype: object\n"
          ],
          "name": "stdout"
        }
      ]
    },
    {
      "cell_type": "code",
      "metadata": {
        "colab": {
          "base_uri": "https://localhost:8080/"
        },
        "id": "0SiwhwJP4gy1",
        "outputId": "c5704530-3fce-4f64-db2d-fb87476b133e"
      },
      "source": [
        "#install scikit-learn library\r\n",
        "!pip install -U scikit-learn"
      ],
      "execution_count": 9,
      "outputs": [
        {
          "output_type": "stream",
          "text": [
            "Requirement already up-to-date: scikit-learn in /usr/local/lib/python3.6/dist-packages (0.24.1)\n",
            "Requirement already satisfied, skipping upgrade: scipy>=0.19.1 in /usr/local/lib/python3.6/dist-packages (from scikit-learn) (1.4.1)\n",
            "Requirement already satisfied, skipping upgrade: numpy>=1.13.3 in /usr/local/lib/python3.6/dist-packages (from scikit-learn) (1.19.5)\n",
            "Requirement already satisfied, skipping upgrade: threadpoolctl>=2.0.0 in /usr/local/lib/python3.6/dist-packages (from scikit-learn) (2.1.0)\n",
            "Requirement already satisfied, skipping upgrade: joblib>=0.11 in /usr/local/lib/python3.6/dist-packages (from scikit-learn) (1.0.0)\n"
          ],
          "name": "stdout"
        }
      ]
    },
    {
      "cell_type": "code",
      "metadata": {
        "id": "nJNzU8-T6Y7V"
      },
      "source": [
        "import sklearn\n",
        "from sklearn.feature_extraction.text import TfidfVectorizer "
      ],
      "execution_count": 10,
      "outputs": []
    },
    {
      "cell_type": "markdown",
      "metadata": {
        "id": "5isbePL6tTZW"
      },
      "source": [
        "**USING TF-IDF TERM WEIGHTING**\r\n",
        "\r\n",
        "in this step the term weighting is the number of TF x IDF."
      ]
    },
    {
      "cell_type": "code",
      "metadata": {
        "id": "meYsQRbA60NE"
      },
      "source": [
        "max_features = 1000\n",
        "databaru= data['komen_stemmed'].astype(str)\n",
        "\n",
        "#menambahkan ngram=(1,2) dst kalo mau pake pemisahan per 2 kata atau lebih\n",
        "tfidf = TfidfVectorizer(max_features=max_features, ngram_range=(1,3), smooth_idf=False)\n",
        "tfs = tfidf.fit_transform(databaru)\n",
        "IDF_vector = tfidf.idf_\n",
        "\n",
        "# hitung TF x IDF sehingga dihasilkan TFIDF matrix / vector\n",
        "tfidf_mat = tfidf.fit_transform(databaru).toarray()"
      ],
      "execution_count": 11,
      "outputs": []
    },
    {
      "cell_type": "markdown",
      "metadata": {
        "id": "Fa5MJZjfwy73"
      },
      "source": [
        "**CLASSIFICATION PROCESS**\r\n",
        "\r\n",
        "in this project the classification is using Naive Bayes Classifier. For a good and valid result we need some validations using K-Fold cross validation. in this project the k = 10 (mentioned as cv on library). the score-mean is similar as the number of average-accuracy each Fold."
      ]
    },
    {
      "cell_type": "code",
      "metadata": {
        "id": "SX1ompdB_27u"
      },
      "source": [
        "X= tfidf_mat\n",
        "Y= data['SENTIMEN']"
      ],
      "execution_count": 12,
      "outputs": []
    },
    {
      "cell_type": "code",
      "metadata": {
        "id": "WdblkP9R_VWn",
        "colab": {
          "base_uri": "https://localhost:8080/"
        },
        "outputId": "a205b212-b2d1-410f-b75e-585df0e34162"
      },
      "source": [
        "from sklearn.naive_bayes import MultinomialNB\n",
        "from sklearn.model_selection import cross_val_score\n",
        "clasfc= MultinomialNB()\n",
        "scores = cross_val_score(clasfc, X, Y, cv=10)\n",
        "\n",
        "scores"
      ],
      "execution_count": 13,
      "outputs": [
        {
          "output_type": "execute_result",
          "data": {
            "text/plain": [
              "array([0.89, 0.93, 0.93, 0.97, 0.88, 0.91, 0.88, 0.89, 0.92, 0.92])"
            ]
          },
          "metadata": {
            "tags": []
          },
          "execution_count": 13
        }
      ]
    },
    {
      "cell_type": "code",
      "metadata": {
        "colab": {
          "base_uri": "https://localhost:8080/"
        },
        "id": "m9JD6nTuBEJ5",
        "outputId": "1b732ddf-a71c-46a3-9ee1-b70f2646b532"
      },
      "source": [
        "scores.mean()"
      ],
      "execution_count": 14,
      "outputs": [
        {
          "output_type": "execute_result",
          "data": {
            "text/plain": [
              "0.9119999999999999"
            ]
          },
          "metadata": {
            "tags": []
          },
          "execution_count": 14
        }
      ]
    },
    {
      "cell_type": "markdown",
      "metadata": {
        "id": "uMekl1AgxAXK"
      },
      "source": [
        "**EVALUATION**\r\n",
        "\r\n",
        "the evaluation method is confusion matrix."
      ]
    },
    {
      "cell_type": "code",
      "metadata": {
        "colab": {
          "base_uri": "https://localhost:8080/"
        },
        "id": "o0kX3o8FgkmK",
        "outputId": "f79e1ed3-e9a4-4626-dc5b-7c99f53a1b76"
      },
      "source": [
        "from sklearn.model_selection import cross_val_predict\r\n",
        "from sklearn.metrics import confusion_matrix\r\n",
        "Y_pred = cross_val_predict(clasfc, X, Y, cv=10)\r\n",
        "conf_mat = confusion_matrix(Y, Y_pred)\r\n",
        "  \r\n",
        "conf_mat"
      ],
      "execution_count": 15,
      "outputs": [
        {
          "output_type": "execute_result",
          "data": {
            "text/plain": [
              "array([[447,  53],\n",
              "       [ 35, 465]])"
            ]
          },
          "metadata": {
            "tags": []
          },
          "execution_count": 15
        }
      ]
    },
    {
      "cell_type": "code",
      "metadata": {
        "id": "ml3GD0nyI_eg"
      },
      "source": [
        "TP = 465\r\n",
        "TN = 447\r\n",
        "FP = 53\r\n",
        "FN = 35"
      ],
      "execution_count": 21,
      "outputs": []
    },
    {
      "cell_type": "code",
      "metadata": {
        "colab": {
          "base_uri": "https://localhost:8080/"
        },
        "id": "BOYYGW56BI1j",
        "outputId": "1261d7c2-0920-4fe3-ddc4-5f07a85d0b1f"
      },
      "source": [
        "accuracy= (TN+TP)/(TN+TP+FN+FP)\n",
        "accuracy"
      ],
      "execution_count": 22,
      "outputs": [
        {
          "output_type": "execute_result",
          "data": {
            "text/plain": [
              "0.912"
            ]
          },
          "metadata": {
            "tags": []
          },
          "execution_count": 22
        }
      ]
    },
    {
      "cell_type": "code",
      "metadata": {
        "colab": {
          "base_uri": "https://localhost:8080/"
        },
        "id": "0C7AcZJGJEK3",
        "outputId": "99b68d04-240a-42ba-d4ed-7dcd67d7a494"
      },
      "source": [
        "precision= TP/(TP+FP)\r\n",
        "precision"
      ],
      "execution_count": 23,
      "outputs": [
        {
          "output_type": "execute_result",
          "data": {
            "text/plain": [
              "0.8976833976833977"
            ]
          },
          "metadata": {
            "tags": []
          },
          "execution_count": 23
        }
      ]
    },
    {
      "cell_type": "code",
      "metadata": {
        "colab": {
          "base_uri": "https://localhost:8080/"
        },
        "id": "GkIoXF6aJFfg",
        "outputId": "bbc9961a-8006-4306-8c2a-ecb091a1d36e"
      },
      "source": [
        "recall= TP/(TP+FN)\r\n",
        "recall"
      ],
      "execution_count": 24,
      "outputs": [
        {
          "output_type": "execute_result",
          "data": {
            "text/plain": [
              "0.93"
            ]
          },
          "metadata": {
            "tags": []
          },
          "execution_count": 24
        }
      ]
    },
    {
      "cell_type": "code",
      "metadata": {
        "colab": {
          "base_uri": "https://localhost:8080/"
        },
        "id": "2pyZnoaYJG5Z",
        "outputId": "ac19e6e6-4018-45a3-a72e-68c270804694"
      },
      "source": [
        "f1meas= (2*precision*recall)/(precision+recall)\r\n",
        "f1meas"
      ],
      "execution_count": 25,
      "outputs": [
        {
          "output_type": "execute_result",
          "data": {
            "text/plain": [
              "0.9135559921414538"
            ]
          },
          "metadata": {
            "tags": []
          },
          "execution_count": 25
        }
      ]
    }
  ]
}